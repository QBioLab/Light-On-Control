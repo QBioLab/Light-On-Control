{
 "cells": [
  {
   "cell_type": "markdown",
   "metadata": {},
   "source": [
    "## 导入包，只用第一次启动运行"
   ]
  },
  {
   "cell_type": "code",
   "execution_count": 1,
   "metadata": {
    "collapsed": false
   },
   "outputs": [],
   "source": [
    "__author__ = 'xiaojs'\n",
    "import serial\n",
    "import time\n",
    "ser = serial.Serial('COM6', 57600)"
   ]
  },
  {
   "cell_type": "markdown",
   "metadata": {},
   "source": [
    "## 调试"
   ]
  },
  {
   "cell_type": "code",
   "execution_count": 13,
   "metadata": {
    "collapsed": false
   },
   "outputs": [
    {
     "data": {
      "text/plain": [
       "12L"
      ]
     },
     "execution_count": 13,
     "metadata": {},
     "output_type": "execute_result"
    },
    {
     "name": "stdout",
     "output_type": "stream",
     "text": [
      "\n"
     ]
    }
   ],
   "source": [
    "#open all light by set the light intensity AS 100\n",
    "ser.write('&ALL_0100_S#')  "
   ]
  },
  {
   "cell_type": "code",
   "execution_count": null,
   "metadata": {
    "collapsed": true
   },
   "outputs": [],
   "source": [
    "#close all light by set the light intensity AS 0\n",
    "ser.write('&ALL_0000_S#')"
   ]
  },
  {
   "cell_type": "code",
   "execution_count": 27,
   "metadata": {
    "collapsed": false
   },
   "outputs": [
    {
     "data": {
      "text/plain": [
       "127L"
      ]
     },
     "execution_count": 27,
     "metadata": {},
     "output_type": "execute_result"
    }
   ],
   "source": [
    "#open all light by set a gradient of light intensity \n",
    "ser.write('&SCH_0300_0300_0900_1200_1500_1800_2100_2400_2700_3000_3300_3600_0000_0600_0900_1200_1500_1800_2100_2400_2700_3000_3300_3600_S#')"
   ]
  },
  {
   "cell_type": "markdown",
   "metadata": {},
   "source": [
    "## 运行程序"
   ]
  },
  {
   "cell_type": "code",
   "execution_count": null,
   "metadata": {
    "collapsed": false
   },
   "outputs": [
    {
     "name": "stdout",
     "output_type": "stream",
     "text": [
      "min: 10 min: 20 min: 30 min: 40 min: 50 min: 60 min: 70 min: 80 min: 90 min: 100 min: 110 min: 120 min: 130 min: 140 min: 150 min: 160 min: 170 min: 180 min: 190 min: 200 min: 210 min: 220 min: 230 min: 240 min: 250 min: 260 min: 270 min: 280 min: 290 min: 300 min: 310 min: 320 min: 330 min: 340 min: 350 min: 360 min: 370 min: 380 min: 390 min: 400 min: 410 min: 420 min: 430 min: 440 min: 450 min: 460 min: 470 min: 480 min: 490 min: 500 min: 510 min: 520 min: 530 min: 540 min: 550 min: 560 min: 570 min: 580 min: 590 min: 600 min: 610 min: 620 min: 630 min: 640 min: 650 min: 660 min: 670 min: 680 min: 690 min: 700 min: 710 min: 720 min: 730 min: 740 min: 750 min: 760 min: 770 min: 780 min: 790 min: 800 min: 810 min: 820 min: 830 min: 840 min: 850 min: 860 min: 870 min: 880 min: 890 min: 900 min: 910 min: 920 min: 930 min: 940 min: 950 min: 960 min: 970 min: 980 min: 990 min: 1000 min: 1010 min: 1020 min: 1030 min: 1040 min: 1050 min: 1060 min: 1070 min: 1080 min: 1090 min: 1100 min: 1110 min: 1120 min: 1130 min: 1140 min: 1150 min: 1160 min: 1170 min: 1180 min: 1190 min: 1200 min: 1210 min: 1220 min: 1230 min: 1240 min: 1250 min: 1260 min: 1270 min: 1280 min: 1290 min: 1300 min: 1310 min: 1320 min: 1330 min: 1340 min: 1350 min: 1360 min: 1370 min: 1380 min: 1390 min: 1400 min: 1410 min: 1420 min: 1430 min: 1440 min: 1450 min: 1460"
     ]
    }
   ],
   "source": [
    "# change the matrix source file path before runing if it needed\n",
    "data = open(\"C:\\Users\\qblab\\Desktop\\lightnoise\\ESmatrix20171211-6day.csv\", \"r\")\n",
    "interval = 60 #second\n",
    "count = 0 \n",
    "temp =10\n",
    "command = '&SCH'+'_%s'*24+'_S#'\n",
    "for line in data:\n",
    "    count += 1\n",
    "    if count%temp == 0:\n",
    "        print \"min:\",count*interval/60, \n",
    "    line = line.strip()\n",
    "    #print line\n",
    "    #print command\n",
    "    sentence = command % (tuple([i.zfill(4) for i in line.split(\",\")]))\n",
    "    ser.write(sentence)\n",
    "    time.sleep(interval)"
   ]
  },
  {
   "cell_type": "code",
   "execution_count": 22,
   "metadata": {
    "collapsed": false
   },
   "outputs": [
    {
     "data": {
      "text/plain": [
       "127L"
      ]
     },
     "execution_count": 22,
     "metadata": {},
     "output_type": "execute_result"
    }
   ],
   "source": []
  },
  {
   "cell_type": "code",
   "execution_count": 6,
   "metadata": {
    "collapsed": false
   },
   "outputs": [
    {
     "data": {
      "text/plain": [
       "32400"
      ]
     },
     "execution_count": 6,
     "metadata": {},
     "output_type": "execute_result"
    }
   ],
   "source": [
    "24*4*8*3600*12 / 1024 "
   ]
  },
  {
   "cell_type": "code",
   "execution_count": 40,
   "metadata": {
    "collapsed": false
   },
   "outputs": [
    {
     "name": "stdout",
     "output_type": "stream",
     "text": [
      "10,110,210,310,410,510,610,710,810,910,1010,1110,1210,1310,1410,1510,1610,1710,1810,1910,2010,2110,2210,2310\n",
      "24\n"
     ]
    }
   ],
   "source": [
    "a = range(10,2400,100)\n",
    "print \",\".join([str(i) for i in a])\n",
    "print len(a)"
   ]
  },
  {
   "cell_type": "code",
   "execution_count": null,
   "metadata": {
    "collapsed": true
   },
   "outputs": [],
   "source": []
  }
 ],
 "metadata": {
  "kernelspec": {
   "display_name": "Python 2",
   "language": "python",
   "name": "python2"
  },
  "language_info": {
   "codemirror_mode": {
    "name": "ipython",
    "version": 2
   },
   "file_extension": ".py",
   "mimetype": "text/x-python",
   "name": "python",
   "nbconvert_exporter": "python",
   "pygments_lexer": "ipython2",
   "version": "2.7.13"
  }
 },
 "nbformat": 4,
 "nbformat_minor": 2
}
